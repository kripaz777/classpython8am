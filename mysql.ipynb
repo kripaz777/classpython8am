{
 "cells": [
  {
   "cell_type": "code",
   "execution_count": 2,
   "id": "d05b6f34",
   "metadata": {},
   "outputs": [
    {
     "name": "stdout",
     "output_type": "stream",
     "text": [
      "Collecting mysql-connector-python\n",
      "  Obtaining dependency information for mysql-connector-python from https://files.pythonhosted.org/packages/99/86/4db455855116fc9aeb801154e0ba258ac7f76ed3f1c674068ca90c65da10/mysql_connector_python-8.3.0-cp39-cp39-win_amd64.whl.metadata\n",
      "  Downloading mysql_connector_python-8.3.0-cp39-cp39-win_amd64.whl.metadata (2.0 kB)\n",
      "Downloading mysql_connector_python-8.3.0-cp39-cp39-win_amd64.whl (15.4 MB)\n",
      "   ---------------------------------------- 15.4/15.4 MB 163.3 kB/s eta 0:00:00\n",
      "Installing collected packages: mysql-connector-python\n",
      "Successfully installed mysql-connector-python-8.3.0\n"
     ]
    },
    {
     "name": "stderr",
     "output_type": "stream",
     "text": [
      "WARNING: Ignoring invalid distribution -atplotlib (c:\\users\\aayush\\anaconda3\\lib\\site-packages)\n",
      "WARNING: Ignoring invalid distribution -illow (c:\\users\\aayush\\anaconda3\\lib\\site-packages)\n",
      "WARNING: Error parsing requirements for plotly: [Errno 2] No such file or directory: 'c:\\\\users\\\\aayush\\\\anaconda3\\\\lib\\\\site-packages\\\\plotly-5.14.1.dist-info\\\\METADATA'\n",
      "WARNING: Ignoring invalid distribution -atplotlib (c:\\users\\aayush\\anaconda3\\lib\\site-packages)\n",
      "WARNING: Ignoring invalid distribution -illow (c:\\users\\aayush\\anaconda3\\lib\\site-packages)\n"
     ]
    }
   ],
   "source": [
    "!pip install mysql-connector-python"
   ]
  },
  {
   "cell_type": "code",
   "execution_count": 1,
   "id": "88b39961",
   "metadata": {},
   "outputs": [],
   "source": [
    "import mysql.connector  \t\t#importing database\n",
    "database = mysql.connector.connect(\n",
    "    host=\"localhost\",\n",
    "    user=\"root\",\n",
    "    password=\"\",\n",
    "    database = \"python8am\")\n",
    "\n",
    "db = database.cursor()"
   ]
  },
  {
   "cell_type": "code",
   "execution_count": 2,
   "id": "e04a8be7",
   "metadata": {},
   "outputs": [
    {
     "data": {
      "text/plain": [
       "[(1, 'Ram Kumar', 78, 89, 67, 90, 67, 400, 80.0, 'A'),\n",
       " (2, 'Shyam', 78, 90, 90, 78, 80, 432, 85.0, 'A'),\n",
       " (3, 'Hari', 67, 89, 98, 67, 89, 87, 86.7, 'A')]"
      ]
     },
     "execution_count": 2,
     "metadata": {},
     "output_type": "execute_result"
    }
   ],
   "source": [
    "db.execute(\"SELECT * FROM student\")\n",
    "result =db.fetchall()\n",
    "# for x in result:\n",
    "#     print(x)\n",
    "result"
   ]
  },
  {
   "cell_type": "code",
   "execution_count": 3,
   "id": "352f0b33",
   "metadata": {},
   "outputs": [
    {
     "data": {
      "text/plain": [
       "[(1, 'Ram Kumar', 80.0, 400, 'A'),\n",
       " (2, 'Shyam', 85.0, 432, 'A'),\n",
       " (3, 'Hari', 86.7, 87, 'A')]"
      ]
     },
     "execution_count": 3,
     "metadata": {},
     "output_type": "execute_result"
    }
   ],
   "source": [
    "db.execute(\"SELECT sn,name,per,total,grade FROM student\")\n",
    "result =db.fetchall()\n",
    "# for x in result:\n",
    "#     print(x)\n",
    "result"
   ]
  },
  {
   "cell_type": "code",
   "execution_count": 4,
   "id": "91fc897f",
   "metadata": {},
   "outputs": [
    {
     "data": {
      "text/plain": [
       "[(1, 'Ram Kumar', 78, 89, 67, 90, 67, 400, 80.0, 'A'),\n",
       " (2, 'Shyam', 78, 90, 90, 78, 80, 432, 85.0, 'A'),\n",
       " (3, 'Hari', 67, 89, 98, 67, 89, 87, 86.7, 'A')]"
      ]
     },
     "execution_count": 4,
     "metadata": {},
     "output_type": "execute_result"
    }
   ],
   "source": [
    "db.execute(\"SELECT * FROM student WHERE grade = 'A'\")\n",
    "result =db.fetchall()\n",
    "# for x in result:\n",
    "#     print(x)\n",
    "result"
   ]
  },
  {
   "cell_type": "code",
   "execution_count": 5,
   "id": "e8c12c68",
   "metadata": {},
   "outputs": [
    {
     "data": {
      "text/plain": [
       "[(1, 'Ram Kumar', 78, 89, 67, 90, 67, 400, 80.0, 'A')]"
      ]
     },
     "execution_count": 5,
     "metadata": {},
     "output_type": "execute_result"
    }
   ],
   "source": [
    "db.execute(\"SELECT * FROM student WHERE sn = 1\")\n",
    "result =db.fetchall()\n",
    "# for x in result:\n",
    "#     print(x)\n",
    "result"
   ]
  },
  {
   "cell_type": "code",
   "execution_count": 6,
   "id": "e88e8ba5",
   "metadata": {},
   "outputs": [
    {
     "data": {
      "text/plain": [
       "[(2, 'Shyam', 78, 90, 90, 78, 80, 432, 85.0, 'A'),\n",
       " (3, 'Hari', 67, 89, 98, 67, 89, 87, 86.7, 'A')]"
      ]
     },
     "execution_count": 6,
     "metadata": {},
     "output_type": "execute_result"
    }
   ],
   "source": [
    "db.execute(\"SELECT * FROM student WHERE grade = 'A' and per >=85\")\n",
    "result =db.fetchall()\n",
    "# for x in result:\n",
    "#     print(x)\n",
    "result"
   ]
  },
  {
   "cell_type": "code",
   "execution_count": 7,
   "id": "a9f27426",
   "metadata": {},
   "outputs": [],
   "source": [
    "# insert data\n",
    "sql = '''INSERT INTO `student` (`sn`, `name`, `physics`, `chemistry`, `math`,\n",
    "`english`, `nepali`, `total`, `per`, `grade`) \n",
    "VALUES ('7', 'Akash', '89', '78', '76', '90', '87', '420', '85', 'A');'''\n",
    "db.execute(sql)\n",
    "database.commit()"
   ]
  },
  {
   "cell_type": "code",
   "execution_count": 8,
   "id": "75fa021c",
   "metadata": {},
   "outputs": [
    {
     "name": "stdout",
     "output_type": "stream",
     "text": [
      "Enter name = Sabin\n",
      "Enter physics = 89\n",
      "Enter chemistry = 98\n",
      "Enter math = 78\n",
      "Enter english = 90\n",
      "Enter nepali = 76\n"
     ]
    }
   ],
   "source": [
    "name = input(\"Enter name = \")\n",
    "physics = float(input(\"Enter physics = \"))\n",
    "chemistry = float(input(\"Enter chemistry = \"))\n",
    "math = float(input(\"Enter math = \"))\n",
    "english = float(input(\"Enter english = \"))\n",
    "nepali = float(input(\"Enter nepali = \"))\n",
    "total = physics + chemistry + math + english + nepali\n",
    "per = total/5\n",
    "if per >= 80:\n",
    "    grade = 'A'\n",
    "elif per >= 60:\n",
    "    grade = 'B'\n",
    "elif per >=45:\n",
    "    grade = 'C'\n",
    "else:\n",
    "    grade = 'F'\n",
    "# insert data\n",
    "sql = f'''INSERT INTO student (name, physics, chemistry, math,\n",
    "english, nepali, total, per, grade) \n",
    "VALUES ('{name}', {physics}, {chemistry}, {math}, {english}, {nepali}, {total}, {per}, '{grade}')'''\n",
    "db.execute(sql)\n",
    "database.commit()"
   ]
  },
  {
   "cell_type": "code",
   "execution_count": 9,
   "id": "de65f7f4",
   "metadata": {},
   "outputs": [
    {
     "name": "stdout",
     "output_type": "stream",
     "text": [
      "INSERT INTO student (name, physics, chemistry, math,\n",
      "english, nepali, total, per, grade) \n",
      "VALUES ('Sabin', 89.0, 98.0, 78.0, 90.0, 76.0, 431.0, 86.2, 'A')\n"
     ]
    }
   ],
   "source": [
    "print(sql)"
   ]
  },
  {
   "cell_type": "code",
   "execution_count": 10,
   "id": "d27750ca",
   "metadata": {},
   "outputs": [
    {
     "data": {
      "text/plain": [
       "[(1, 'Ram Kumar', 78, 89, 67, 90, 67, 400, 80.0, 'A'),\n",
       " (2, 'Shyam', 78, 90, 90, 78, 80, 432, 85.0, 'A'),\n",
       " (3, 'Hari', 67, 89, 98, 67, 89, 87, 86.7, 'A'),\n",
       " (4, 'Akash', 89, 78, 76, 90, 87, 420, 85.0, 'A'),\n",
       " (5, 'Akash', 89, 78, 76, 90, 87, 420, 85.0, 'A'),\n",
       " (6, 'Anish', 77, 78, 76, 90, 87, 420, 85.0, 'A'),\n",
       " (7, 'Akash', 89, 78, 76, 90, 87, 420, 85.0, 'A'),\n",
       " (8, 'Sabin', 89, 98, 78, 90, 76, 431, 86.2, 'A'),\n",
       " (9, 'Sabin', 89, 98, 78, 90, 76, 431, 86.2, 'A')]"
      ]
     },
     "execution_count": 10,
     "metadata": {},
     "output_type": "execute_result"
    }
   ],
   "source": [
    "db.execute(\"SELECT * FROM student\")\n",
    "result =db.fetchall()\n",
    "# for x in result:\n",
    "#     print(x)\n",
    "result"
   ]
  },
  {
   "cell_type": "code",
   "execution_count": 27,
   "id": "851e531b",
   "metadata": {},
   "outputs": [],
   "source": [
    "# UPDATE"
   ]
  },
  {
   "cell_type": "code",
   "execution_count": 12,
   "id": "af3c4e96",
   "metadata": {},
   "outputs": [],
   "source": [
    "sql = '''UPDATE student SET name = \"Ram\" WHERE name = \"Ram Kumar\" '''\n",
    "db.execute(sql)\n",
    "database.commit()"
   ]
  },
  {
   "cell_type": "code",
   "execution_count": 18,
   "id": "4b3eb5e3",
   "metadata": {},
   "outputs": [
    {
     "name": "stdout",
     "output_type": "stream",
     "text": [
      "Enter subject name = physics\n",
      "Enter marks = 90\n",
      "Enter student id = 1\n"
     ]
    }
   ],
   "source": [
    "subject = input(\"Enter subject name = \")\n",
    "marks = int(input(\"Enter marks = \"))\n",
    "student_id = int(input(\"Enter student id = \"))\n",
    "\n",
    "sql = f'''UPDATE student SET {subject} = {marks} WHERE sn = {student_id}'''\n",
    "db.execute(sql)\n",
    "database.commit()"
   ]
  },
  {
   "cell_type": "code",
   "execution_count": 19,
   "id": "3936a575",
   "metadata": {},
   "outputs": [
    {
     "data": {
      "text/plain": [
       "[(90, 89, 67, 90, 67)]"
      ]
     },
     "execution_count": 19,
     "metadata": {},
     "output_type": "execute_result"
    }
   ],
   "source": [
    "db.execute(\"SELECT physics,chemistry,math,english,nepali FROM student WHERE sn = 1\")\n",
    "result =db.fetchall()\n",
    "# for x in result:\n",
    "#     print(x)\n",
    "result"
   ]
  },
  {
   "cell_type": "code",
   "execution_count": 24,
   "id": "70acd07c",
   "metadata": {},
   "outputs": [
    {
     "data": {
      "text/plain": [
       "403"
      ]
     },
     "execution_count": 24,
     "metadata": {},
     "output_type": "execute_result"
    }
   ],
   "source": [
    "suum = sum(result[0])\n",
    "suum"
   ]
  },
  {
   "cell_type": "code",
   "execution_count": 28,
   "id": "2c05246f",
   "metadata": {},
   "outputs": [],
   "source": [
    "per = suum/5\n",
    "if per >= 80:\n",
    "    grade = 'A'\n",
    "elif per >= 60:\n",
    "    grade = 'B'\n",
    "elif per >=45:\n",
    "    grade = 'C'\n",
    "else:\n",
    "    grade = 'F'\n",
    "\n",
    "sql = f'''UPDATE student SET total = {suum}, per = {per} WHERE sn = {student_id}'''\n",
    "db.execute(sql)\n",
    "database.commit()"
   ]
  },
  {
   "cell_type": "code",
   "execution_count": 29,
   "id": "3ebf3ddb",
   "metadata": {},
   "outputs": [],
   "source": [
    "sql = \"DELETE FROM student WHERE grade = 'F'\"\n",
    "db.execute(sql)\n",
    "database.commit()"
   ]
  },
  {
   "cell_type": "code",
   "execution_count": null,
   "id": "b4b784ef",
   "metadata": {},
   "outputs": [],
   "source": []
  }
 ],
 "metadata": {
  "kernelspec": {
   "display_name": "Python 3 (ipykernel)",
   "language": "python",
   "name": "python3"
  },
  "language_info": {
   "codemirror_mode": {
    "name": "ipython",
    "version": 3
   },
   "file_extension": ".py",
   "mimetype": "text/x-python",
   "name": "python",
   "nbconvert_exporter": "python",
   "pygments_lexer": "ipython3",
   "version": "3.9.12"
  }
 },
 "nbformat": 4,
 "nbformat_minor": 5
}
