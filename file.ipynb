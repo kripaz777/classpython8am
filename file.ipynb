{
 "cells": [
  {
   "cell_type": "code",
   "execution_count": 1,
   "id": "56a7b9ce",
   "metadata": {},
   "outputs": [],
   "source": [
    "# file = open('<file location>','<mode>')\n",
    "# <operations>\n",
    "# file.close()"
   ]
  },
  {
   "cell_type": "code",
   "execution_count": 2,
   "id": "a2d7ea55",
   "metadata": {},
   "outputs": [],
   "source": [
    "# with open('<file_name>','mode') as file:\n",
    "#     <operations>\n",
    "    "
   ]
  },
  {
   "cell_type": "code",
   "execution_count": 3,
   "id": "979ae036",
   "metadata": {},
   "outputs": [],
   "source": [
    "# read -> r\n",
    "# write -> w\n",
    "# create -> x\n",
    "# append -> a"
   ]
  },
  {
   "cell_type": "code",
   "execution_count": 4,
   "id": "295ea063",
   "metadata": {},
   "outputs": [],
   "source": [
    "file = open('data.txt','x')\n",
    "file.close()"
   ]
  },
  {
   "cell_type": "code",
   "execution_count": 5,
   "id": "c13d8958",
   "metadata": {},
   "outputs": [
    {
     "name": "stdout",
     "output_type": "stream",
     "text": [
      "1. Hello World\n",
      "2. Hello World\n",
      "3. Hello World\n",
      "4. Hello World\n",
      "5. Hello World\n"
     ]
    }
   ],
   "source": [
    "file = open('data.txt','r')\n",
    "x = file.read()\n",
    "print(x)\n",
    "file.close()"
   ]
  },
  {
   "cell_type": "code",
   "execution_count": 7,
   "id": "6b26d150",
   "metadata": {},
   "outputs": [
    {
     "data": {
      "text/plain": [
       "['1. Hello World',\n",
       " '2. Hello World',\n",
       " '3. Hello World',\n",
       " '4. Hello World',\n",
       " '5. Hello World']"
      ]
     },
     "execution_count": 7,
     "metadata": {},
     "output_type": "execute_result"
    }
   ],
   "source": [
    "b = x.split('\\n')\n",
    "b"
   ]
  },
  {
   "cell_type": "code",
   "execution_count": 8,
   "id": "19ca117b",
   "metadata": {},
   "outputs": [
    {
     "data": {
      "text/plain": [
       "'1. Hello World'"
      ]
     },
     "execution_count": 8,
     "metadata": {},
     "output_type": "execute_result"
    }
   ],
   "source": [
    "b[0]"
   ]
  },
  {
   "cell_type": "code",
   "execution_count": 9,
   "id": "a0e70698",
   "metadata": {},
   "outputs": [],
   "source": [
    "# write\n",
    "file = open('data1.txt','w')\n",
    "file.write('Hello World')\n",
    "file.close()"
   ]
  },
  {
   "cell_type": "code",
   "execution_count": 32,
   "id": "d6eb1379",
   "metadata": {},
   "outputs": [
    {
     "name": "stdout",
     "output_type": "stream",
     "text": [
      "Enter n = 2\n",
      "Enter name = Apple\n",
      "Enter price = 300\n",
      "Enter quantity = 3\n",
      "Enter name = Banana\n",
      "Enter price = 200\n",
      "Enter quantity = 4\n",
      "Apple\t300\t3.0\t900.0\n",
      "Banana\t200\t4.0\t800.0\n",
      "\n"
     ]
    }
   ],
   "source": [
    "# name, price, quantity, total all_total\n",
    "bill = str()\n",
    "n = int(input(\"Enter n = \"))\n",
    "for i in range(n):\n",
    "    name = input(\"Enter name = \")\n",
    "    price = int(input(\"Enter price = \"))\n",
    "    qty = float(input(\"Enter quantity = \"))\n",
    "    total = price * qty\n",
    "    bill = bill + f\"{name}\\t{price}\\t{qty}\\t{total}\\n\"\n",
    "print(bill)\n",
    "\n",
    "file = open('bill.txt','w')\n",
    "file.write(bill)\n",
    "file.close()"
   ]
  },
  {
   "cell_type": "code",
   "execution_count": 33,
   "id": "5e1b5fc2",
   "metadata": {},
   "outputs": [
    {
     "data": {
      "text/plain": [
       "'Apple\\t300\\t3.0\\t900.0\\nBanana\\t200\\t4.0\\t800.0\\n'"
      ]
     },
     "execution_count": 33,
     "metadata": {},
     "output_type": "execute_result"
    }
   ],
   "source": [
    "bill"
   ]
  },
  {
   "cell_type": "code",
   "execution_count": 34,
   "id": "b782bc78",
   "metadata": {},
   "outputs": [
    {
     "name": "stdout",
     "output_type": "stream",
     "text": [
      "['Apple\\t300\\t3.0\\t900.0', 'Banana\\t200\\t4.0\\t800.0', '']\n"
     ]
    }
   ],
   "source": [
    "file = open('bill.txt','r')\n",
    "x = file.read()\n",
    "print(x.split('\\n'))\n",
    "file.close()"
   ]
  },
  {
   "cell_type": "code",
   "execution_count": 38,
   "id": "7de04826",
   "metadata": {},
   "outputs": [
    {
     "data": {
      "text/plain": [
       "['Apple\\t300\\t3.0\\t900.0', 'Banana\\t200\\t4.0\\t800.0']"
      ]
     },
     "execution_count": 38,
     "metadata": {},
     "output_type": "execute_result"
    }
   ],
   "source": [
    "y = x.split('\\n')[0:-1]\n",
    "y"
   ]
  },
  {
   "cell_type": "code",
   "execution_count": 50,
   "id": "3f887c01",
   "metadata": {},
   "outputs": [
    {
     "data": {
      "text/plain": [
       "[['Apple', 300, 3.0, 900.0], ['Banana', 200, 4.0, 800.0]]"
      ]
     },
     "execution_count": 50,
     "metadata": {},
     "output_type": "execute_result"
    }
   ],
   "source": [
    "bills = []\n",
    "for i in y:\n",
    "    z = i.split('\\t')\n",
    "    z[1] = int(z[1])\n",
    "    z[2] = float(z[2])\n",
    "    z[3] = float(z[3])\n",
    "\n",
    "    bills.append(z)\n",
    "    \n",
    "bills"
   ]
  },
  {
   "cell_type": "code",
   "execution_count": 51,
   "id": "cf2ca01c",
   "metadata": {},
   "outputs": [
    {
     "name": "stdout",
     "output_type": "stream",
     "text": [
      "['Apple', '300', '3.0', '900.0']\n",
      "['Banana', '200', '4.0', '800.0']\n"
     ]
    }
   ],
   "source": [
    "for i in y:\n",
    "    z = i.split('\\t')\n",
    "    print(z)"
   ]
  },
  {
   "cell_type": "code",
   "execution_count": 3,
   "id": "54f44e2d",
   "metadata": {},
   "outputs": [
    {
     "name": "stdout",
     "output_type": "stream",
     "text": [
      "Enter n = 2\n",
      "Enter name = Apple\n",
      "Enter price = 300\n",
      "Enter quantity = 2\n",
      "Enter name = Banana\n",
      "Enter price = 100\n",
      "Enter quantity = 3\n",
      "Apple,300,2.0,600.0\n",
      "Banana,100,3.0,300.0\n",
      "\n"
     ]
    }
   ],
   "source": [
    "# name, price, quantity, total all_total\n",
    "bill = str()\n",
    "n = int(input(\"Enter n = \"))\n",
    "for i in range(n):\n",
    "    name = input(\"Enter name = \")\n",
    "    price = int(input(\"Enter price = \"))\n",
    "    qty = float(input(\"Enter quantity = \"))\n",
    "    total = price * qty\n",
    "    bill = bill + f\"{name},{price},{qty},{total}\\n\"\n",
    "print(bill)\n",
    "\n",
    "file = open('bill.csv','w')\n",
    "file.write('name,price,qty,total\\n')\n",
    "file.write(bill)\n",
    "file.close()"
   ]
  },
  {
   "cell_type": "code",
   "execution_count": 2,
   "id": "52be4bab",
   "metadata": {},
   "outputs": [
    {
     "data": {
      "text/plain": [
       "'C:\\\\Users\\\\Aayush\\\\Python-class-8AM'"
      ]
     },
     "execution_count": 2,
     "metadata": {},
     "output_type": "execute_result"
    }
   ],
   "source": [
    "pwd"
   ]
  },
  {
   "cell_type": "code",
   "execution_count": 5,
   "id": "eb990c15",
   "metadata": {},
   "outputs": [
    {
     "data": {
      "text/html": [
       "<div>\n",
       "<style scoped>\n",
       "    .dataframe tbody tr th:only-of-type {\n",
       "        vertical-align: middle;\n",
       "    }\n",
       "\n",
       "    .dataframe tbody tr th {\n",
       "        vertical-align: top;\n",
       "    }\n",
       "\n",
       "    .dataframe thead th {\n",
       "        text-align: right;\n",
       "    }\n",
       "</style>\n",
       "<table border=\"1\" class=\"dataframe\">\n",
       "  <thead>\n",
       "    <tr style=\"text-align: right;\">\n",
       "      <th></th>\n",
       "      <th>name</th>\n",
       "      <th>price</th>\n",
       "      <th>qty</th>\n",
       "      <th>total</th>\n",
       "    </tr>\n",
       "  </thead>\n",
       "  <tbody>\n",
       "    <tr>\n",
       "      <th>0</th>\n",
       "      <td>Apple</td>\n",
       "      <td>300</td>\n",
       "      <td>2.0</td>\n",
       "      <td>600.0</td>\n",
       "    </tr>\n",
       "    <tr>\n",
       "      <th>1</th>\n",
       "      <td>Banana</td>\n",
       "      <td>100</td>\n",
       "      <td>3.0</td>\n",
       "      <td>300.0</td>\n",
       "    </tr>\n",
       "  </tbody>\n",
       "</table>\n",
       "</div>"
      ],
      "text/plain": [
       "     name  price  qty  total\n",
       "0   Apple    300  2.0  600.0\n",
       "1  Banana    100  3.0  300.0"
      ]
     },
     "execution_count": 5,
     "metadata": {},
     "output_type": "execute_result"
    }
   ],
   "source": [
    "import pandas as pd\n",
    "df = pd.read_csv('bill.csv')\n",
    "df"
   ]
  },
  {
   "cell_type": "code",
   "execution_count": null,
   "id": "5038fdc6",
   "metadata": {},
   "outputs": [],
   "source": []
  }
 ],
 "metadata": {
  "kernelspec": {
   "display_name": "Python 3 (ipykernel)",
   "language": "python",
   "name": "python3"
  },
  "language_info": {
   "codemirror_mode": {
    "name": "ipython",
    "version": 3
   },
   "file_extension": ".py",
   "mimetype": "text/x-python",
   "name": "python",
   "nbconvert_exporter": "python",
   "pygments_lexer": "ipython3",
   "version": "3.9.12"
  }
 },
 "nbformat": 4,
 "nbformat_minor": 5
}
