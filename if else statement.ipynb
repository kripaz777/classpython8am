{
 "cells": [
  {
   "cell_type": "code",
   "execution_count": 1,
   "id": "08392e08",
   "metadata": {},
   "outputs": [],
   "source": [
    "# if <condition>:\n",
    "#     <operations>\n",
    "# elif <condition>:\n",
    "#     <operation>\n",
    "# ...\n",
    "\n",
    "# else:\n",
    "#     <operations>"
   ]
  },
  {
   "cell_type": "code",
   "execution_count": 2,
   "id": "41ad50be",
   "metadata": {},
   "outputs": [],
   "source": [
    "#  < > <= >= == !="
   ]
  },
  {
   "cell_type": "code",
   "execution_count": 3,
   "id": "8b265391",
   "metadata": {},
   "outputs": [
    {
     "data": {
      "text/plain": [
       "True"
      ]
     },
     "execution_count": 3,
     "metadata": {},
     "output_type": "execute_result"
    }
   ],
   "source": [
    "a = 10\n",
    "a > 0"
   ]
  },
  {
   "cell_type": "code",
   "execution_count": 7,
   "id": "9ad54eeb",
   "metadata": {},
   "outputs": [
    {
     "name": "stdout",
     "output_type": "stream",
     "text": [
      "Enter a = -10\n",
      "The no is -ve\n"
     ]
    }
   ],
   "source": [
    "a = int(input(\"Enter a = \"))\n",
    "if a >= 0:\n",
    "    print(\"The value is +ve\")\n",
    "\n",
    "else:\n",
    "    print(\"The no is -ve\")"
   ]
  },
  {
   "cell_type": "code",
   "execution_count": 11,
   "id": "4ea1a29e",
   "metadata": {},
   "outputs": [
    {
     "data": {
      "text/plain": [
       "False"
      ]
     },
     "execution_count": 11,
     "metadata": {},
     "output_type": "execute_result"
    }
   ],
   "source": [
    "a = 11\n",
    "a%2 == 0"
   ]
  },
  {
   "cell_type": "code",
   "execution_count": 12,
   "id": "f22c077c",
   "metadata": {},
   "outputs": [
    {
     "name": "stdout",
     "output_type": "stream",
     "text": [
      "Enter a = 10\n",
      "10 is even\n"
     ]
    }
   ],
   "source": [
    "a = int(input(\"Enter a = \"))\n",
    "if a%2==0:\n",
    "    print(a,\"is even\")\n",
    "else:\n",
    "    print(a,\"is odd\")"
   ]
  },
  {
   "cell_type": "code",
   "execution_count": 15,
   "id": "121a4dd7",
   "metadata": {},
   "outputs": [
    {
     "name": "stdout",
     "output_type": "stream",
     "text": [
      "Enter a = 10\n",
      "Enter b = 10\n",
      "Both are equal\n"
     ]
    }
   ],
   "source": [
    "a = int(input(\"Enter a = \"))\n",
    "b = int(input(\"Enter b = \"))\n",
    "if a>b:\n",
    "    print(a,\"is greater than\",b)\n",
    "elif b>a:\n",
    "    print(b,\"is greater than\",a)\n",
    "else:\n",
    "    print(\"Both are equal\")"
   ]
  },
  {
   "cell_type": "code",
   "execution_count": 17,
   "id": "b7d77cb5",
   "metadata": {},
   "outputs": [
    {
     "name": "stdout",
     "output_type": "stream",
     "text": [
      "Enter a = 10\n",
      "Enter b = 0\n",
      "Enter + or - or * or /  /\n"
     ]
    },
    {
     "ename": "ZeroDivisionError",
     "evalue": "division by zero",
     "output_type": "error",
     "traceback": [
      "\u001b[1;31m---------------------------------------------------------------------------\u001b[0m",
      "\u001b[1;31mZeroDivisionError\u001b[0m                         Traceback (most recent call last)",
      "Input \u001b[1;32mIn [17]\u001b[0m, in \u001b[0;36m<cell line: 4>\u001b[1;34m()\u001b[0m\n\u001b[0;32m      9\u001b[0m     \u001b[38;5;28mprint\u001b[39m(a\u001b[38;5;241m*\u001b[39mb)\n\u001b[0;32m     10\u001b[0m \u001b[38;5;28;01melif\u001b[39;00m o \u001b[38;5;241m==\u001b[39m \u001b[38;5;124m'\u001b[39m\u001b[38;5;124m/\u001b[39m\u001b[38;5;124m'\u001b[39m:\n\u001b[1;32m---> 11\u001b[0m     \u001b[38;5;28mprint\u001b[39m(\u001b[43ma\u001b[49m\u001b[38;5;241;43m/\u001b[39;49m\u001b[43mb\u001b[49m)\n\u001b[0;32m     12\u001b[0m \u001b[38;5;28;01melse\u001b[39;00m:\n\u001b[0;32m     13\u001b[0m     \u001b[38;5;28mprint\u001b[39m(\u001b[38;5;124m\"\u001b[39m\u001b[38;5;124mEnter valid operator\u001b[39m\u001b[38;5;124m\"\u001b[39m)\n",
      "\u001b[1;31mZeroDivisionError\u001b[0m: division by zero"
     ]
    }
   ],
   "source": [
    "a = int(input(\"Enter a = \"))\n",
    "b = int(input(\"Enter b = \"))\n",
    "o = input(\"Enter + or - or * or /  \")\n",
    "if o == '+':\n",
    "    print(a+b)\n",
    "elif o == '-':\n",
    "    print(a-b)\n",
    "elif o == '*':\n",
    "    print(a*b)\n",
    "elif o == '/':\n",
    "    print(a/b)\n",
    "else:\n",
    "    print(\"Enter valid operator\")"
   ]
  },
  {
   "cell_type": "code",
   "execution_count": null,
   "id": "5cb897b4",
   "metadata": {},
   "outputs": [],
   "source": [
    "# and &\n",
    "\n",
    "# or  |"
   ]
  },
  {
   "cell_type": "code",
   "execution_count": 18,
   "id": "9482bfe6",
   "metadata": {},
   "outputs": [
    {
     "name": "stdout",
     "output_type": "stream",
     "text": [
      "True\n",
      "False\n",
      "False\n",
      "False\n"
     ]
    }
   ],
   "source": [
    "#and\n",
    "print(True and True)\n",
    "print(True and False)\n",
    "print(False and True)\n",
    "print(False and False)"
   ]
  },
  {
   "cell_type": "code",
   "execution_count": 19,
   "id": "089e1288",
   "metadata": {},
   "outputs": [
    {
     "name": "stdout",
     "output_type": "stream",
     "text": [
      "True\n",
      "True\n",
      "True\n",
      "False\n"
     ]
    }
   ],
   "source": [
    "#or\n",
    "print(True or True)\n",
    "print(True or False)\n",
    "print(False or True)\n",
    "print(False or False)"
   ]
  },
  {
   "cell_type": "code",
   "execution_count": null,
   "id": "1c2013ae",
   "metadata": {},
   "outputs": [],
   "source": [
    "a = int(input(\"Enter a = \"))\n",
    "b = int(input(\"Enter b = \"))\n",
    "o = input(\"Enter + or - or * or /  \")\n",
    "if o == '+':\n",
    "    print(a+b)\n",
    "elif o == '-':\n",
    "    print(a-b)\n",
    "elif o == '*':\n",
    "    print(a*b)\n",
    "elif (o == '/') and (b != 0):\n",
    "    print(a/b)\n",
    "elif (o == '/') and (b == 0):\n",
    "    print(\"The value of b can not be zero when o = /\")\n",
    "else:\n",
    "    print(\"Enter valid operator\")"
   ]
  },
  {
   "cell_type": "code",
   "execution_count": null,
   "id": "13d50474",
   "metadata": {},
   "outputs": [],
   "source": [
    "physics = float(input(\"Enter physics = \"))\n",
    "chemistry = float(input(\"Enter chemistry = \"))\n",
    "math = float(input(\"Enter math = \"))\n",
    "english = float(input(\"Enter english = \"))\n",
    "nepali = float(input(\"Enter nepali = \"))\n",
    "\n",
    "total = physics + chemistry + math + english + nepali\n",
    "per = total/5\n",
    "\n",
    "if per >= 80:\n",
    "    grade = 'A'\n",
    "elif per >= 60:\n",
    "    grade = 'B'\n",
    "elif per >=45:\n",
    "    grade = 'C'\n",
    "else:\n",
    "    grade = 'F'\n",
    "\n",
    "print(\"The total marks = \",total)\n",
    "print(\"The per = \",per)\n",
    "print(\"The grade = \",grade)"
   ]
  },
  {
   "cell_type": "code",
   "execution_count": 1,
   "id": "5dfea401",
   "metadata": {},
   "outputs": [],
   "source": [
    "# #Nested If else\n",
    "# if <condition>:\n",
    "#     if <condation>:\n",
    "#         <operation>\n",
    "#     else:\n",
    "#         <operation>\n",
    "# else:\n",
    "#     <operation>"
   ]
  },
  {
   "cell_type": "code",
   "execution_count": 4,
   "id": "c7a54d21",
   "metadata": {},
   "outputs": [
    {
     "name": "stdout",
     "output_type": "stream",
     "text": [
      "Enter a = 10\n",
      "Enter b = 0\n",
      "Enter + or - or * or /  /\n",
      "The value of b can not be zero when o = /\n"
     ]
    }
   ],
   "source": [
    "a = int(input(\"Enter a = \"))\n",
    "b = int(input(\"Enter b = \"))\n",
    "o = input(\"Enter + or - or * or /  \")\n",
    "if o == '+':\n",
    "    print(a+b)\n",
    "elif o == '-':\n",
    "    print(a-b)\n",
    "elif o == '*':\n",
    "    print(a*b)\n",
    "elif (o == '/'):\n",
    "    if (b != 0):\n",
    "        print(a/b)\n",
    "    else:\n",
    "        print(\"The value of b can not be zero when o = /\")\n",
    "else:\n",
    "    print(\"Enter valid operator\")"
   ]
  },
  {
   "cell_type": "code",
   "execution_count": null,
   "id": "32f7e25d",
   "metadata": {},
   "outputs": [],
   "source": [
    "physics = float(input(\"Enter physics = \"))\n",
    "chemistry = float(input(\"Enter chemistry = \"))\n",
    "math = float(input(\"Enter math = \"))\n",
    "english = float(input(\"Enter english = \"))\n",
    "nepali = float(input(\"Enter nepali = \"))\n",
    "if physics >= 35 and chemistry >=35 and math>=35 and english>=35 and nepali>=35:\n",
    "    total = physics + chemistry + math + english + nepali\n",
    "    per = total/5\n",
    "\n",
    "    if per > 80 or per == 80:\n",
    "        grade = 'A'\n",
    "    elif per > 60 or per ==60:\n",
    "        grade = 'B'\n",
    "    elif per >45 or per==45:\n",
    "        grade = 'C'\n",
    "    else:\n",
    "        grade = 'F'\n",
    "\n",
    "    print(\"The total marks = \",total)\n",
    "    print(\"The per = \",per)\n",
    "    print(\"The grade = \",grade)\n",
    "else:\n",
    "    print(\"Grade = \",'F')"
   ]
  }
 ],
 "metadata": {
  "kernelspec": {
   "display_name": "Python 3 (ipykernel)",
   "language": "python",
   "name": "python3"
  },
  "language_info": {
   "codemirror_mode": {
    "name": "ipython",
    "version": 3
   },
   "file_extension": ".py",
   "mimetype": "text/x-python",
   "name": "python",
   "nbconvert_exporter": "python",
   "pygments_lexer": "ipython3",
   "version": "3.9.12"
  }
 },
 "nbformat": 4,
 "nbformat_minor": 5
}
