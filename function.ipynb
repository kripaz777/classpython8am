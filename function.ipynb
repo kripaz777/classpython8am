{
 "cells": [
  {
   "cell_type": "code",
   "execution_count": 1,
   "id": "0fef766b",
   "metadata": {},
   "outputs": [],
   "source": [
    "# # pre defined\n",
    "# print() int() str() float() type() list() tuple() dict() set()"
   ]
  },
  {
   "cell_type": "code",
   "execution_count": 2,
   "id": "e9a3b195",
   "metadata": {},
   "outputs": [],
   "source": [
    "# def <function_name>():\n",
    "#     <operations>\n",
    "    \n",
    "# <function_name>()"
   ]
  },
  {
   "cell_type": "code",
   "execution_count": 4,
   "id": "b34bd364",
   "metadata": {},
   "outputs": [
    {
     "name": "stdout",
     "output_type": "stream",
     "text": [
      "Hello World\n",
      "Hello World\n"
     ]
    }
   ],
   "source": [
    "def hello():\n",
    "    print(\"Hello World\")\n",
    "    \n",
    "hello()\n",
    "hello()"
   ]
  },
  {
   "cell_type": "code",
   "execution_count": 5,
   "id": "8727d8a6",
   "metadata": {},
   "outputs": [
    {
     "name": "stdout",
     "output_type": "stream",
     "text": [
      "Enter l = 200\n",
      "Enter b = 34\n",
      "Enter h = 5\n",
      "6800\n",
      "1156000\n"
     ]
    }
   ],
   "source": [
    "def cal():                       #defining function\n",
    "    l = int(input(\"Enter l = \")) #local variable\n",
    "    b = int(input(\"Enter b = \")) #local variable\n",
    "    h = int(input(\"Enter h = \")) #local variable\n",
    "    a = l*b\n",
    "    v = l*b*h\n",
    "    print(a)\n",
    "    print(v)\n",
    "    \n",
    "cal()                            #function call"
   ]
  },
  {
   "cell_type": "code",
   "execution_count": 6,
   "id": "2dba4909",
   "metadata": {},
   "outputs": [
    {
     "name": "stdout",
     "output_type": "stream",
     "text": [
      "Enter l = 110\n",
      "Enter b = 23\n",
      "Enter h = 2\n",
      "2530\n",
      "5060\n"
     ]
    }
   ],
   "source": [
    "l = int(input(\"Enter l = \")) #global variable\n",
    "b = int(input(\"Enter b = \")) #global variable\n",
    "h = int(input(\"Enter h = \")) #global variable\n",
    "def cal():                       #defining function\n",
    "    a = l*b\n",
    "    v = l*b*h\n",
    "    print(a)\n",
    "    print(v)\n",
    "    \n",
    "cal()                            #function call"
   ]
  },
  {
   "cell_type": "code",
   "execution_count": 7,
   "id": "f0ec59c6",
   "metadata": {},
   "outputs": [
    {
     "name": "stdout",
     "output_type": "stream",
     "text": [
      "Enter l = 100\n",
      "Enter b = 2\n",
      "Enter h = 3\n",
      "200\n",
      "600\n"
     ]
    }
   ],
   "source": [
    "l = int(input(\"Enter l = \")) #global variable\n",
    "b = int(input(\"Enter b = \")) #global variable\n",
    "h = int(input(\"Enter h = \")) #global variable\n",
    "\n",
    "def area():                       #defining function\n",
    "    a = l*b\n",
    "    print(a)\n",
    "    \n",
    "def volume():\n",
    "    v = l*b*h\n",
    "    print(v)\n",
    "    \n",
    "area()                            #function call\n",
    "volume()"
   ]
  },
  {
   "cell_type": "code",
   "execution_count": null,
   "id": "0477990e",
   "metadata": {},
   "outputs": [],
   "source": [
    "# function with arguments\n",
    "l = int(input(\"Enter l = \")) #global variable\n",
    "b = int(input(\"Enter b = \")) #global variable\n",
    "h = int(input(\"Enter h = \")) #global variable\n",
    "\n",
    "def cal(x,y,z):              #defining function with parameter\n",
    "    a = x*y\n",
    "    v = x*y*z\n",
    "    print(a)\n",
    "    print(v)\n",
    "\n",
    "    \n",
    "cal(l,b,h)                    #function call with arguments"
   ]
  },
  {
   "cell_type": "code",
   "execution_count": null,
   "id": "862f1662",
   "metadata": {},
   "outputs": [],
   "source": [
    "# function with arguments\n",
    "def cal(data):              #defining function with parameter\n",
    "    x,y,z = data\n",
    "    a = x*y\n",
    "    v = x*y*z\n",
    "    print(a)\n",
    "    print(v)\n",
    "\n",
    "l = int(input(\"Enter l = \")) #global variable\n",
    "b = int(input(\"Enter b = \")) #global variable\n",
    "h = int(input(\"Enter h = \")) #global variable\n",
    "data = [l,b,h]\n",
    "cal(data)                    #function call with arguments"
   ]
  },
  {
   "cell_type": "code",
   "execution_count": 8,
   "id": "67469b2d",
   "metadata": {},
   "outputs": [
    {
     "name": "stdout",
     "output_type": "stream",
     "text": [
      "C\n",
      "C++\n",
      "Java\n",
      "R\n",
      "Python\n"
     ]
    }
   ],
   "source": [
    "def language(lan = \"Python\"):\n",
    "    print(lan)\n",
    "    \n",
    "language(\"C\")\n",
    "language(\"C++\")\n",
    "language(\"Java\")\n",
    "language(\"R\")\n",
    "language()"
   ]
  },
  {
   "cell_type": "code",
   "execution_count": 11,
   "id": "95945a34",
   "metadata": {},
   "outputs": [
    {
     "name": "stdout",
     "output_type": "stream",
     "text": [
      "Hello WorldI am Python\n"
     ]
    }
   ],
   "source": [
    "# Return type function\n",
    "def hello():\n",
    "    return \"Hello World\"\n",
    "\n",
    "# print(hello())\n",
    "x = hello()\n",
    "print(x + \" I am Python\")"
   ]
  },
  {
   "cell_type": "code",
   "execution_count": 12,
   "id": "94f811b3",
   "metadata": {},
   "outputs": [
    {
     "name": "stdout",
     "output_type": "stream",
     "text": [
      "Enter l = 100\n",
      "Enter b = 23\n",
      "Enter h = 2\n",
      "4600\n",
      "2300\n"
     ]
    }
   ],
   "source": [
    "# function with arguments and return type\n",
    "l = int(input(\"Enter l = \")) #global variable\n",
    "b = int(input(\"Enter b = \")) #global variable\n",
    "h = int(input(\"Enter h = \")) #global variable\n",
    "\n",
    "def cal(x,y):              #defining function with parameter\n",
    "    a = x*y\n",
    "    return a\n",
    "\n",
    "    \n",
    "area = cal(l,b)                    #function call with arguments\n",
    "volume = area *h \n",
    "print(volume)\n",
    "print(area)"
   ]
  },
  {
   "cell_type": "code",
   "execution_count": 13,
   "id": "e58706cb",
   "metadata": {},
   "outputs": [
    {
     "name": "stdout",
     "output_type": "stream",
     "text": [
      "Enter l = 100\n",
      "Enter b = 23\n",
      "Enter h = 21\n",
      "(2300, 48300)\n"
     ]
    }
   ],
   "source": [
    "# function with arguments\n",
    "l = int(input(\"Enter l = \")) #global variable\n",
    "b = int(input(\"Enter b = \")) #global variable\n",
    "h = int(input(\"Enter h = \")) #global variable\n",
    "\n",
    "def cal(x,y,z):              #defining function with parameter\n",
    "    a = x*y\n",
    "    v = x*y*z\n",
    "    return a,v\n",
    "\n",
    "    \n",
    "print(cal(l,b,h))                    #function call with arguments\n",
    "area,volume = cal(l,b,h)\n",
    "print(area)\n",
    "print(volume)"
   ]
  },
  {
   "cell_type": "code",
   "execution_count": null,
   "id": "8ee2155e",
   "metadata": {},
   "outputs": [],
   "source": [
    "a = int(input(\"Enter a = \"))\n",
    "b = int(input(\"Enter b = \"))\n",
    "o = input(\"Enter + or - or * or /  \")\n",
    "def add(a,b):\n",
    "    return a+b\n",
    "def sub(a,b):\n",
    "    return a-b\n",
    "def mul(a,b):\n",
    "    return a*b\n",
    "def div(a,b):\n",
    "    return a/b\n",
    "def cal(a,b,o):\n",
    "    if o == '+':\n",
    "        print(add(a,b))\n",
    "    elif o == '-':\n",
    "        print(sub(a,b))\n",
    "    elif o == '*':\n",
    "        print(mul(a,b))\n",
    "    elif (o == '/') and (b != 0):\n",
    "        print(div(a,b))\n",
    "    elif (o == '/') and (b == 0):\n",
    "        print(\"The value of b can not be zero when o = /\")\n",
    "    else:\n",
    "        print(\"Enter valid operator\")\n",
    "cal(a,b,o)"
   ]
  },
  {
   "cell_type": "code",
   "execution_count": 15,
   "id": "62789cc4",
   "metadata": {},
   "outputs": [
    {
     "name": "stdout",
     "output_type": "stream",
     "text": [
      "Enter n = 2\n",
      "Enter name = Apple\n",
      "Enter price = 34\n",
      "Enter quantity = 3\n",
      "Enter name = Banana\n",
      "Enter price = 100\n",
      "Enter quantity = 2\n",
      "Apple 34 3.0 102.0\n",
      "Banana 100 2.0 200.0\n",
      "\n",
      "302.0\n"
     ]
    }
   ],
   "source": [
    "# name, price, quantity, total all_total\n",
    "bill = str()\n",
    "all_total = 0\n",
    "n = int(input(\"Enter n = \"))\n",
    "\n",
    "def billing_system(n):\n",
    "    global bill,all_total\n",
    "    for i in range(n):\n",
    "        name = input(\"Enter name = \")\n",
    "        price = int(input(\"Enter price = \"))\n",
    "        qty = float(input(\"Enter quantity = \"))\n",
    "        total = price * qty\n",
    "        bill = bill + f\"{name} {price} {qty} {total}\\n\"\n",
    "        all_total = all_total + total\n",
    "    return bill,all_total\n",
    "\n",
    "bill,all_total = billing_system(n)\n",
    "print(bill)\n",
    "print(all_total)"
   ]
  },
  {
   "cell_type": "code",
   "execution_count": 1,
   "id": "ae741116",
   "metadata": {},
   "outputs": [],
   "source": [
    "# recursive function"
   ]
  },
  {
   "cell_type": "code",
   "execution_count": null,
   "id": "4a639769",
   "metadata": {},
   "outputs": [],
   "source": [
    "def hello():\n",
    "    print(\"Hello World\")\n",
    "    hello()\n",
    "    \n",
    "hello()"
   ]
  },
  {
   "cell_type": "code",
   "execution_count": 1,
   "id": "bcb7095e",
   "metadata": {},
   "outputs": [
    {
     "name": "stdout",
     "output_type": "stream",
     "text": [
      "Hello World\n",
      "Enter y for more print y\n",
      "Hello World\n",
      "Enter y for more print y\n",
      "Hello World\n",
      "Enter y for more print asdas\n"
     ]
    }
   ],
   "source": [
    "def hello():\n",
    "    print(\"Hello World\")\n",
    "    x = input(\"Enter y for more print \")\n",
    "    if x == 'y':\n",
    "        hello()\n",
    "    \n",
    "hello()"
   ]
  },
  {
   "cell_type": "code",
   "execution_count": 5,
   "id": "2732f986",
   "metadata": {},
   "outputs": [
    {
     "name": "stdout",
     "output_type": "stream",
     "text": [
      "Enter name = Apple\n",
      "Enter price = 100\n",
      "Enter quantity = 3\n",
      "Press enter for more entry \n",
      "Enter name = Banana\n",
      "Enter price = 300\n",
      "Enter quantity = 2\n",
      "Press enter for more entry ads\n"
     ]
    }
   ],
   "source": [
    "# name, price, quantity, total all_total\n",
    "bill = []\n",
    "def billing_system():\n",
    "    global bill\n",
    "    name = input(\"Enter name = \")\n",
    "    price = int(input(\"Enter price = \"))\n",
    "    qty = float(input(\"Enter quantity = \"))\n",
    "    total = price * qty\n",
    "    bill = bill + [[name,price,qty,total]]\n",
    "    x = input(\"Press enter for more entry \")\n",
    "    if x == '':\n",
    "        billing_system()\n",
    "        \n",
    "billing_system()"
   ]
  },
  {
   "cell_type": "code",
   "execution_count": 6,
   "id": "78e1ec55",
   "metadata": {},
   "outputs": [
    {
     "data": {
      "text/plain": [
       "[['Apple', 100, 3.0, 300.0], ['Banana', 300, 2.0, 600.0]]"
      ]
     },
     "execution_count": 6,
     "metadata": {},
     "output_type": "execute_result"
    }
   ],
   "source": [
    "bill"
   ]
  },
  {
   "cell_type": "code",
   "execution_count": 7,
   "id": "0920780a",
   "metadata": {},
   "outputs": [],
   "source": [
    "# lambda function"
   ]
  },
  {
   "cell_type": "code",
   "execution_count": 8,
   "id": "fd43e6e1",
   "metadata": {},
   "outputs": [],
   "source": [
    "# x = lambda <argument>:<operation>"
   ]
  },
  {
   "cell_type": "code",
   "execution_count": 9,
   "id": "ea2d658a",
   "metadata": {},
   "outputs": [
    {
     "name": "stdout",
     "output_type": "stream",
     "text": [
      "16\n"
     ]
    }
   ],
   "source": [
    "x = lambda a:a**2\n",
    "print(x(4))"
   ]
  },
  {
   "cell_type": "code",
   "execution_count": 10,
   "id": "6336b1d9",
   "metadata": {},
   "outputs": [
    {
     "data": {
      "text/plain": [
       "50"
      ]
     },
     "execution_count": 10,
     "metadata": {},
     "output_type": "execute_result"
    }
   ],
   "source": [
    "x = lambda l,b:l*b\n",
    "x(10,5)"
   ]
  },
  {
   "cell_type": "code",
   "execution_count": 11,
   "id": "80d328fa",
   "metadata": {},
   "outputs": [
    {
     "name": "stdout",
     "output_type": "stream",
     "text": [
      "hello world\n"
     ]
    }
   ],
   "source": [
    "x = lambda a:a.lower()\n",
    "print(x(\"Hello World\"))"
   ]
  },
  {
   "cell_type": "code",
   "execution_count": 12,
   "id": "0adda02f",
   "metadata": {},
   "outputs": [],
   "source": [
    "# filter() map()"
   ]
  },
  {
   "cell_type": "code",
   "execution_count": 13,
   "id": "668661de",
   "metadata": {},
   "outputs": [
    {
     "data": {
      "text/plain": [
       "[2, 4, 6, 8, 10]"
      ]
     },
     "execution_count": 13,
     "metadata": {},
     "output_type": "execute_result"
    }
   ],
   "source": [
    "a = [1,2,3,4,5,6,7,8,9,10]\n",
    "x = list(filter(lambda y:y%2==0, a))\n",
    "x"
   ]
  },
  {
   "cell_type": "code",
   "execution_count": 14,
   "id": "b218c3a4",
   "metadata": {},
   "outputs": [
    {
     "data": {
      "text/plain": [
       "['Apple', 'Cat', 'Dog', 'Fish']"
      ]
     },
     "execution_count": 14,
     "metadata": {},
     "output_type": "execute_result"
    }
   ],
   "source": [
    "a = [\"Apple\",\"ball\",\"Cat\",\"Dog\",\"Fish\"]\n",
    "x = list(filter(lambda y:y[0].isupper(), a))\n",
    "x"
   ]
  },
  {
   "cell_type": "code",
   "execution_count": 15,
   "id": "d602a305",
   "metadata": {},
   "outputs": [],
   "source": [
    "# map()"
   ]
  },
  {
   "cell_type": "code",
   "execution_count": 17,
   "id": "021a70f1",
   "metadata": {},
   "outputs": [
    {
     "name": "stdout",
     "output_type": "stream",
     "text": [
      "[1, 4, 9, 16, 25, 36, 49, 64, 81, 100]\n"
     ]
    }
   ],
   "source": [
    "a = [1,2,3,4,5,6,7,8,9,10]\n",
    "x = list(map(lambda y:y**2, a))\n",
    "print(x)"
   ]
  },
  {
   "cell_type": "code",
   "execution_count": 18,
   "id": "9852a6ee",
   "metadata": {},
   "outputs": [
    {
     "data": {
      "text/plain": [
       "['apple', 'ball', 'cat', 'dog', 'fish']"
      ]
     },
     "execution_count": 18,
     "metadata": {},
     "output_type": "execute_result"
    }
   ],
   "source": [
    "a = [\"Apple\",\"Ball\",\"Cat\",\"Dog\",\"Fish\"]\n",
    "x = list(map(lambda y:y.lower(), a))\n",
    "x"
   ]
  },
  {
   "cell_type": "code",
   "execution_count": 19,
   "id": "5f74c859",
   "metadata": {},
   "outputs": [
    {
     "data": {
      "text/plain": [
       "[0, 1, 2, 3, 4, 5, 6, 7, 8, 9]"
      ]
     },
     "execution_count": 19,
     "metadata": {},
     "output_type": "execute_result"
    }
   ],
   "source": [
    "#List Comprehension\n",
    "a = [i for i in range(10)]\n",
    "a"
   ]
  },
  {
   "cell_type": "code",
   "execution_count": 20,
   "id": "db601a4c",
   "metadata": {},
   "outputs": [
    {
     "name": "stdout",
     "output_type": "stream",
     "text": [
      "Enter x = 23\n",
      "Enter x = 43\n",
      "Enter x = 43\n",
      "Enter x = 32\n",
      "Enter x = 45\n"
     ]
    },
    {
     "data": {
      "text/plain": [
       "[23, 43, 43, 32, 45]"
      ]
     },
     "execution_count": 20,
     "metadata": {},
     "output_type": "execute_result"
    }
   ],
   "source": [
    "a = [int(input(\"Enter x = \")) for i in range(5)]\n",
    "a"
   ]
  },
  {
   "cell_type": "code",
   "execution_count": 21,
   "id": "84956181",
   "metadata": {},
   "outputs": [
    {
     "name": "stdout",
     "output_type": "stream",
     "text": [
      "Enter x = 34\n",
      "Enter x = 32\n",
      "Enter x = 53\n",
      "Enter x = 35\n",
      "Enter x = 23\n"
     ]
    },
    {
     "data": {
      "text/plain": [
       "177"
      ]
     },
     "execution_count": 21,
     "metadata": {},
     "output_type": "execute_result"
    }
   ],
   "source": [
    "a = sum([int(input(\"Enter x = \")) for i in range(5)])\n",
    "a"
   ]
  },
  {
   "cell_type": "code",
   "execution_count": 22,
   "id": "6d050138",
   "metadata": {},
   "outputs": [
    {
     "data": {
      "text/plain": [
       "['apple', 'ball', 'cat', 'dog', 'fish']"
      ]
     },
     "execution_count": 22,
     "metadata": {},
     "output_type": "execute_result"
    }
   ],
   "source": [
    "a = [\"Apple\",\"Ball\",\"Cat\",\"Dog\",\"Fish\"]\n",
    "b = [i.lower() for i in a]\n",
    "b"
   ]
  },
  {
   "cell_type": "code",
   "execution_count": 23,
   "id": "279a6f6b",
   "metadata": {},
   "outputs": [
    {
     "data": {
      "text/plain": [
       "{1: 1, 2: 4, 3: 9, 4: 16, 5: 25}"
      ]
     },
     "execution_count": 23,
     "metadata": {},
     "output_type": "execute_result"
    }
   ],
   "source": [
    "#Dict Comprehension\n",
    "a = {i:i**2 for i in range(1,6)}\n",
    "a"
   ]
  },
  {
   "cell_type": "code",
   "execution_count": 24,
   "id": "0c39cf80",
   "metadata": {},
   "outputs": [
    {
     "name": "stdout",
     "output_type": "stream",
     "text": [
      "Enter name = Ram\n",
      "Enter phone = 9808778765\n",
      "Enter name = Shyam\n",
      "Enter phone = 9808445432\n",
      "Enter name = Hari\n",
      "Enter phone = 9808445432\n",
      "Enter name = Sita\n",
      "Enter phone = 9834789056\n",
      "Enter name = nabin\n",
      "Enter phone = 9823556543\n"
     ]
    },
    {
     "data": {
      "text/plain": [
       "{'Ram': '9808778765',\n",
       " 'Shyam': '9808445432',\n",
       " 'Hari': '9808445432',\n",
       " 'Sita': '9834789056',\n",
       " 'nabin': '9823556543'}"
      ]
     },
     "execution_count": 24,
     "metadata": {},
     "output_type": "execute_result"
    }
   ],
   "source": [
    "a = {input(\"Enter name = \"):input(\"Enter phone = \") for i in range(5)}\n",
    "a"
   ]
  },
  {
   "cell_type": "code",
   "execution_count": 25,
   "id": "5245581b",
   "metadata": {},
   "outputs": [
    {
     "data": {
      "text/plain": [
       "{'Apple1': 'Apple',\n",
       " 'Ball2': 'Ball',\n",
       " 'Cat3': 'Cat',\n",
       " 'Dog4': 'Dog',\n",
       " 'Fish5': 'Fish'}"
      ]
     },
     "execution_count": 25,
     "metadata": {},
     "output_type": "execute_result"
    }
   ],
   "source": [
    "a = [\"Apple1\",\"Ball2\",\"Cat3\",\"Dog4\",\"Fish5\"]\n",
    "b = {i:i[:-1] for i in a}\n",
    "b"
   ]
  },
  {
   "cell_type": "code",
   "execution_count": null,
   "id": "bfcfd14c",
   "metadata": {},
   "outputs": [],
   "source": []
  }
 ],
 "metadata": {
  "kernelspec": {
   "display_name": "Python 3 (ipykernel)",
   "language": "python",
   "name": "python3"
  },
  "language_info": {
   "codemirror_mode": {
    "name": "ipython",
    "version": 3
   },
   "file_extension": ".py",
   "mimetype": "text/x-python",
   "name": "python",
   "nbconvert_exporter": "python",
   "pygments_lexer": "ipython3",
   "version": "3.9.12"
  }
 },
 "nbformat": 4,
 "nbformat_minor": 5
}
