{
 "cells": [
  {
   "cell_type": "code",
   "execution_count": 1,
   "id": "4e9d7878",
   "metadata": {},
   "outputs": [],
   "source": [
    "# String\n",
    "#imutable datatype"
   ]
  },
  {
   "cell_type": "code",
   "execution_count": 2,
   "id": "54c11893",
   "metadata": {},
   "outputs": [
    {
     "name": "stdout",
     "output_type": "stream",
     "text": [
      "<class 'str'>\n",
      "<class 'str'>\n",
      "<class 'str'>\n"
     ]
    }
   ],
   "source": [
    "a = 'Hello World'\n",
    "b = \"Hello World\"\n",
    "c = '''Hello World'''\n",
    "\n",
    "print(type(a))\n",
    "print(type(b))\n",
    "print(type(c))"
   ]
  },
  {
   "cell_type": "code",
   "execution_count": 3,
   "id": "cf031352",
   "metadata": {},
   "outputs": [
    {
     "name": "stdout",
     "output_type": "stream",
     "text": [
      "Hello World I am Python\n"
     ]
    }
   ],
   "source": [
    "a = \"Hello World\"\n",
    "b =  \" I am Python\"\n",
    "c = a+b\n",
    "print(c)"
   ]
  },
  {
   "cell_type": "code",
   "execution_count": 6,
   "id": "aaffd2a4",
   "metadata": {},
   "outputs": [
    {
     "name": "stdout",
     "output_type": "stream",
     "text": [
      "Hello World\n",
      "Hello World\n",
      "Hello World\n",
      "\n"
     ]
    }
   ],
   "source": [
    "a = \"Hello World\\n\"\n",
    "print(a*3)"
   ]
  },
  {
   "cell_type": "code",
   "execution_count": 8,
   "id": "e279fc5e",
   "metadata": {},
   "outputs": [
    {
     "name": "stdout",
     "output_type": "stream",
     "text": [
      "Python"
     ]
    }
   ],
   "source": [
    "a = \"Python\"\n",
    "for i in a:\n",
    "    print(i,end = \"\")"
   ]
  },
  {
   "cell_type": "code",
   "execution_count": 18,
   "id": "33691712",
   "metadata": {},
   "outputs": [
    {
     "name": "stdout",
     "output_type": "stream",
     "text": [
      "l\n",
      "Hello\n",
      "HloWrdIa yhn\n"
     ]
    }
   ],
   "source": [
    "a = \"Hello World I am Python\"\n",
    "print(a[2])\n",
    "print(a[0:5])\n",
    "print(a[0:23:2])"
   ]
  },
  {
   "cell_type": "code",
   "execution_count": 19,
   "id": "a84c6e5b",
   "metadata": {},
   "outputs": [
    {
     "data": {
      "text/plain": [
       "23"
      ]
     },
     "execution_count": 19,
     "metadata": {},
     "output_type": "execute_result"
    }
   ],
   "source": [
    "a = \"Hello World I am Python\"\n",
    "print(len(a))"
   ]
  },
  {
   "cell_type": "code",
   "execution_count": 21,
   "id": "e8ea5098",
   "metadata": {},
   "outputs": [
    {
     "name": "stdout",
     "output_type": "stream",
     "text": [
      "P\n",
      "n\n"
     ]
    }
   ],
   "source": [
    "a = \"Python\"\n",
    "print(a[0])\n",
    "print(a[-1])"
   ]
  },
  {
   "cell_type": "code",
   "execution_count": 24,
   "id": "8174e83c",
   "metadata": {},
   "outputs": [
    {
     "data": {
      "text/plain": [
       "'nohtyP'"
      ]
     },
     "execution_count": 24,
     "metadata": {},
     "output_type": "execute_result"
    }
   ],
   "source": [
    "a = \"Python\"\n",
    "print(a[-1:-7:-1])"
   ]
  },
  {
   "cell_type": "code",
   "execution_count": 26,
   "id": "7fbb7b09",
   "metadata": {},
   "outputs": [
    {
     "data": {
      "text/plain": [
       "'nohtyP ma I dlroW olleH'"
      ]
     },
     "execution_count": 26,
     "metadata": {},
     "output_type": "execute_result"
    }
   ],
   "source": [
    "a = \"Hello World I am Python\"\n",
    "print(a[::-1])"
   ]
  },
  {
   "cell_type": "code",
   "execution_count": 28,
   "id": "e94a93af",
   "metadata": {},
   "outputs": [
    {
     "name": "stdout",
     "output_type": "stream",
     "text": [
      "Hello World I am Python"
     ]
    }
   ],
   "source": [
    "a = \"Hello World I am Python\"\n",
    "n = len(a)\n",
    "for i in range(n):\n",
    "    print(a[i],end = \"\")"
   ]
  },
  {
   "cell_type": "code",
   "execution_count": 29,
   "id": "dd58cb04",
   "metadata": {},
   "outputs": [
    {
     "name": "stdout",
     "output_type": "stream",
     "text": [
      "Hello World I am Python"
     ]
    }
   ],
   "source": [
    "i = 0\n",
    "a = \"Hello World I am Python\"\n",
    "n = len(a)\n",
    "while i<n:\n",
    "    print(a[i],end = \"\")\n",
    "    i = i+1"
   ]
  },
  {
   "cell_type": "code",
   "execution_count": null,
   "id": "5422bd29",
   "metadata": {},
   "outputs": [],
   "source": [
    "# WAP to find the index of \" \" in\n",
    "# a = \"Hello World I am Python\""
   ]
  },
  {
   "cell_type": "code",
   "execution_count": 30,
   "id": "7a355de5",
   "metadata": {},
   "outputs": [],
   "source": [
    "# String formatting"
   ]
  },
  {
   "cell_type": "code",
   "execution_count": 33,
   "id": "96ee5732",
   "metadata": {},
   "outputs": [
    {
     "name": "stdout",
     "output_type": "stream",
     "text": [
      "Hello World Ram. I am 34. I am from Kathmandu\n"
     ]
    }
   ],
   "source": [
    "name = \"Ram\"\n",
    "age = 34\n",
    "add = \"Kathmandu\"\n",
    "\n",
    "# info = \"Hello World I am \" + name + \" I am from \"+str(age) + \"I am from\" +\n",
    "#         add\n",
    "info = f\"Hello World {name}. I am {age}. I am from {add}\"\n",
    "print(info)"
   ]
  },
  {
   "cell_type": "code",
   "execution_count": 34,
   "id": "25ab533b",
   "metadata": {},
   "outputs": [],
   "source": [
    "#WAP to create a billing system using string formatting"
   ]
  },
  {
   "cell_type": "code",
   "execution_count": 55,
   "id": "27eb9a4f",
   "metadata": {},
   "outputs": [
    {
     "name": "stdout",
     "output_type": "stream",
     "text": [
      "Enter name = Ram\n",
      "Yes! there is  ram\n",
      "2\n"
     ]
    }
   ],
   "source": [
    "#search in string\n",
    "a = \"Ram Shyam Hari Sita Ramesh\".lower()\n",
    "name = input(\"Enter name = \").lower()\n",
    "if name in a:\n",
    "    print(\"Yes! there is \",name)\n",
    "    print(a.count(name))\n",
    "else:\n",
    "    print(\"There is no such name\")"
   ]
  },
  {
   "cell_type": "code",
   "execution_count": 45,
   "id": "9655656e",
   "metadata": {},
   "outputs": [
    {
     "data": {
      "text/plain": [
       "'ram shyam hari sita ram'"
      ]
     },
     "execution_count": 45,
     "metadata": {},
     "output_type": "execute_result"
    }
   ],
   "source": [
    "a = \"Ram Shyam Hari Sita Ram\"\n",
    "a = a.lower()\n",
    "a"
   ]
  },
  {
   "cell_type": "code",
   "execution_count": 47,
   "id": "0260767f",
   "metadata": {},
   "outputs": [
    {
     "data": {
      "text/plain": [
       "'RAM SHYAM HARI SITA RAM'"
      ]
     },
     "execution_count": 47,
     "metadata": {},
     "output_type": "execute_result"
    }
   ],
   "source": [
    "a = \"Ram Shyam Hari Sita Ram\"\n",
    "a = a.upper()\n",
    "a"
   ]
  },
  {
   "cell_type": "code",
   "execution_count": 54,
   "id": "24bf69ad",
   "metadata": {},
   "outputs": [
    {
     "name": "stdout",
     "output_type": "stream",
     "text": [
      "Enter name = Ram\n",
      "ram shyam hari sita ram\n",
      "RAM\n"
     ]
    }
   ],
   "source": [
    "a = \"Ram Shyam Hari Sita Ram\".lower()\n",
    "name = input(\"Enter name = \").upper()\n",
    "print(a)\n",
    "print(name)"
   ]
  },
  {
   "cell_type": "code",
   "execution_count": 58,
   "id": "4fa52f4f",
   "metadata": {},
   "outputs": [
    {
     "data": {
      "text/plain": [
       "'ram Shyam Hari Sita ram'"
      ]
     },
     "execution_count": 58,
     "metadata": {},
     "output_type": "execute_result"
    }
   ],
   "source": [
    "a = \"Ram Shyam Hari Sita Ram\"\n",
    "a = a.replace(\"Ram\",\"ram\")\n",
    "a"
   ]
  },
  {
   "cell_type": "code",
   "execution_count": 62,
   "id": "dbc2265f",
   "metadata": {},
   "outputs": [
    {
     "data": {
      "text/plain": [
       "'ram Shyam Hari Sita ram'"
      ]
     },
     "execution_count": 62,
     "metadata": {},
     "output_type": "execute_result"
    }
   ],
   "source": [
    "a = \"Ram Shyam Hari Sita Ram\"\n",
    "a = a.replace(\"Ram\",\"ram\")\n",
    "a"
   ]
  },
  {
   "cell_type": "code",
   "execution_count": 63,
   "id": "dfa5284e",
   "metadata": {},
   "outputs": [
    {
     "data": {
      "text/plain": [
       "' Shyam Hari Sita '"
      ]
     },
     "execution_count": 63,
     "metadata": {},
     "output_type": "execute_result"
    }
   ],
   "source": [
    "a = \"Ram Shyam Hari Sita Ram\"\n",
    "a = a.replace(\"Ram\",\"\")\n",
    "a"
   ]
  },
  {
   "cell_type": "code",
   "execution_count": null,
   "id": "a60b0a49",
   "metadata": {},
   "outputs": [],
   "source": []
  }
 ],
 "metadata": {
  "kernelspec": {
   "display_name": "Python 3 (ipykernel)",
   "language": "python",
   "name": "python3"
  },
  "language_info": {
   "codemirror_mode": {
    "name": "ipython",
    "version": 3
   },
   "file_extension": ".py",
   "mimetype": "text/x-python",
   "name": "python",
   "nbconvert_exporter": "python",
   "pygments_lexer": "ipython3",
   "version": "3.9.12"
  }
 },
 "nbformat": 4,
 "nbformat_minor": 5
}
