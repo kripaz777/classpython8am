{
 "cells": [
  {
   "cell_type": "code",
   "execution_count": 1,
   "id": "921627ed",
   "metadata": {},
   "outputs": [],
   "source": [
    "# Python collection\n",
    "# list\n",
    "# tuple\n",
    "# dict\n",
    "# set"
   ]
  },
  {
   "cell_type": "code",
   "execution_count": 2,
   "id": "cb62b4dc",
   "metadata": {},
   "outputs": [],
   "source": [
    "# List\n",
    "# -Indexing\n",
    "# -Ordered\n",
    "# -Multiple and duplicate\n",
    "# -Mutable"
   ]
  },
  {
   "cell_type": "code",
   "execution_count": 4,
   "id": "3b0ad9bf",
   "metadata": {},
   "outputs": [
    {
     "name": "stdout",
     "output_type": "stream",
     "text": [
      "<class 'list'>\n",
      "<class 'list'>\n"
     ]
    }
   ],
   "source": [
    "a = [1,2,3,4,5,6,7,8,9,0]\n",
    "b = [\"Apple\",\"Ball\",\"Cat\",\"Dog\",\"Fish\"]\n",
    "print(type(a))\n",
    "print(type(b))"
   ]
  },
  {
   "cell_type": "code",
   "execution_count": 10,
   "id": "6e937dc3",
   "metadata": {},
   "outputs": [
    {
     "name": "stdout",
     "output_type": "stream",
     "text": [
      "['Apple', 'Ball', 'Cat', 'Dog', 'Fish', 'Apple']\n",
      "Apple\n",
      "['Apple', 'Ball', 'Cat', 'Dog']\n",
      "['Apple', 'Cat', 'Fish']\n"
     ]
    }
   ],
   "source": [
    "b = [\"Apple\",\"Ball\",\"Cat\",\"Dog\",\"Fish\",\"Apple\"]\n",
    "print(b)\n",
    "print(b[0])\n",
    "print(b[0:4])\n",
    "print(b[0:5:2])"
   ]
  },
  {
   "cell_type": "code",
   "execution_count": 11,
   "id": "41d02a10",
   "metadata": {},
   "outputs": [
    {
     "name": "stdout",
     "output_type": "stream",
     "text": [
      "[1, 2, 3, 4, 5, 6, 7, 8, 9, 0]\n"
     ]
    }
   ],
   "source": [
    "a = [1,2,3,4,5]\n",
    "b = [6,7,8,9,0]\n",
    "c = a+b\n",
    "print(c)"
   ]
  },
  {
   "cell_type": "code",
   "execution_count": 12,
   "id": "ffd4fe79",
   "metadata": {},
   "outputs": [
    {
     "name": "stdout",
     "output_type": "stream",
     "text": [
      "[1, 2, 3, 4, 5, 1, 2, 3, 4, 5]\n"
     ]
    }
   ],
   "source": [
    "a = [1,2,3,4,5]\n",
    "print(a*2)"
   ]
  },
  {
   "cell_type": "code",
   "execution_count": 14,
   "id": "a4d5bf42",
   "metadata": {},
   "outputs": [],
   "source": [
    "a = ['Apple', 'Ball', 'Cat', 'Dog', 'Fish', 'Apple']\n",
    "for i in a:\n",
    "    print(i)"
   ]
  },
  {
   "cell_type": "code",
   "execution_count": 15,
   "id": "8371da36",
   "metadata": {},
   "outputs": [],
   "source": [
    "#append() insert() extend()"
   ]
  },
  {
   "cell_type": "code",
   "execution_count": 17,
   "id": "e5eae57e",
   "metadata": {},
   "outputs": [
    {
     "name": "stdout",
     "output_type": "stream",
     "text": [
      "Enter n = 5\n",
      "Enter x = 234\n",
      "[234]\n",
      "Enter x = 567\n",
      "[234, 567]\n",
      "Enter x = 234\n",
      "[234, 567, 234]\n",
      "Enter x = 567\n",
      "[234, 567, 234, 567]\n",
      "Enter x = 789\n",
      "[234, 567, 234, 567, 789]\n"
     ]
    }
   ],
   "source": [
    "a = []\n",
    "n = int(input(\"Enter n = \"))\n",
    "for i in range(n):\n",
    "    x = int(input(\"Enter x = \"))\n",
    "    a.append(x)\n",
    "    \n",
    "    print(a)"
   ]
  },
  {
   "cell_type": "code",
   "execution_count": 21,
   "id": "81107477",
   "metadata": {},
   "outputs": [
    {
     "name": "stdout",
     "output_type": "stream",
     "text": [
      "The max value =  789\n",
      "The min value =  234\n",
      "The sum of the value =  2391\n",
      "[234, 234, 567, 567, 789]\n",
      "[789, 567, 567, 234, 234]\n"
     ]
    }
   ],
   "source": [
    "print(\"The max value = \",max(a))\n",
    "print(\"The min value = \",min(a))\n",
    "print(\"The sum of the value = \",sum(a))\n",
    "a.sort()\n",
    "print(a)\n",
    "a.reverse()\n",
    "print(a)"
   ]
  },
  {
   "cell_type": "code",
   "execution_count": 23,
   "id": "ccf99bef",
   "metadata": {},
   "outputs": [
    {
     "name": "stdout",
     "output_type": "stream",
     "text": [
      "['Apple', 'Ball', 'Ball', 'Cat', 'Xray', 'ant']\n"
     ]
    }
   ],
   "source": [
    "a = [\"Ball\",\"Apple\",\"Cat\",\"ant\",\"Xray\",\"Ball\"]\n",
    "a.sort()\n",
    "print(a)"
   ]
  },
  {
   "cell_type": "code",
   "execution_count": 27,
   "id": "a46f3b5e",
   "metadata": {},
   "outputs": [
    {
     "name": "stdout",
     "output_type": "stream",
     "text": [
      "['.Xray', '1ant', 'Apple', 'Ball', 'Ball', 'Cat']\n"
     ]
    }
   ],
   "source": [
    "a = [\"Ball\",\"Apple\",\"Cat\",\"1ant\",\".Xray\",\"Ball\"]\n",
    "a.sort()\n",
    "print(a)"
   ]
  },
  {
   "cell_type": "code",
   "execution_count": 28,
   "id": "76d4160f",
   "metadata": {},
   "outputs": [
    {
     "data": {
      "text/plain": [
       "['Ball', 'apple', 'Apple', 'Cat', 'ant', 'Xray', 'Ball']"
      ]
     },
     "execution_count": 28,
     "metadata": {},
     "output_type": "execute_result"
    }
   ],
   "source": [
    "#insert()\n",
    "a = [\"Ball\",\"Apple\",\"Cat\",\"ant\",\"Xray\",\"Ball\"]\n",
    "a.insert(1,\"apple\")\n",
    "a"
   ]
  },
  {
   "cell_type": "code",
   "execution_count": 29,
   "id": "5bb02ddd",
   "metadata": {},
   "outputs": [
    {
     "data": {
      "text/plain": [
       "['Ball', 'Apple', 'Cat', 'ant', 'Xray', 'Ball', 1, 2, 3, 4, 5, 6, 7, 8, 9, 0]"
      ]
     },
     "execution_count": 29,
     "metadata": {},
     "output_type": "execute_result"
    }
   ],
   "source": [
    "#extend()\n",
    "a = [\"Ball\",\"Apple\",\"Cat\",\"ant\",\"Xray\",\"Ball\"]\n",
    "b = [1,2,3,4,5,6,7,8,9,0]\n",
    "a.extend(b)\n",
    "a"
   ]
  },
  {
   "cell_type": "code",
   "execution_count": 31,
   "id": "dbe1e63b",
   "metadata": {},
   "outputs": [
    {
     "data": {
      "text/plain": [
       "['ball', 'Apple', 'Cat', 'ant', 'Xray', 'Ball']"
      ]
     },
     "execution_count": 31,
     "metadata": {},
     "output_type": "execute_result"
    }
   ],
   "source": [
    "# Update list\n",
    "a = [\"Ball\",\"Apple\",\"Cat\",\"ant\",\"Xray\",\"Ball\"]\n",
    "a[0] = \"ball\"\n",
    "a"
   ]
  },
  {
   "cell_type": "code",
   "execution_count": 34,
   "id": "f483090b",
   "metadata": {},
   "outputs": [
    {
     "data": {
      "text/plain": [
       "['Ball', 'ball', 'apple', 'Cat', 'ant', 'Xray', 'Ball']"
      ]
     },
     "execution_count": 34,
     "metadata": {},
     "output_type": "execute_result"
    }
   ],
   "source": [
    "a = [\"Ball\",\"Apple\",\"Cat\",\"ant\",\"Xray\",\"Ball\"]\n",
    "a[1:2] = [\"ball\",\"apple\"]\n",
    "a"
   ]
  },
  {
   "cell_type": "code",
   "execution_count": 35,
   "id": "5aaf7111",
   "metadata": {},
   "outputs": [
    {
     "data": {
      "text/plain": [
       "['ball', 'apple', 'Cat', 'ant', 'Xray', 'Ball']"
      ]
     },
     "execution_count": 35,
     "metadata": {},
     "output_type": "execute_result"
    }
   ],
   "source": [
    "a = [\"Ball\",\"Apple\",\"Cat\",\"ant\",\"Xray\",\"Ball\"]\n",
    "a[0:2] = [\"ball\",\"apple\"]\n",
    "a"
   ]
  },
  {
   "cell_type": "code",
   "execution_count": 36,
   "id": "4d513f53",
   "metadata": {},
   "outputs": [],
   "source": [
    "# removing value from list\n",
    "#del remove() pop()"
   ]
  },
  {
   "cell_type": "code",
   "execution_count": 37,
   "id": "cfe183dc",
   "metadata": {},
   "outputs": [
    {
     "name": "stdout",
     "output_type": "stream",
     "text": [
      "['apple', 'Cat', 'ant', 'Xray', 'Ball']\n"
     ]
    }
   ],
   "source": [
    "a = ['ball', 'apple', 'Cat', 'ant', 'Xray', 'Ball']\n",
    "del a[0]\n",
    "print(a)"
   ]
  },
  {
   "cell_type": "code",
   "execution_count": 38,
   "id": "52e6cccc",
   "metadata": {},
   "outputs": [
    {
     "name": "stdout",
     "output_type": "stream",
     "text": [
      "['ant', 'Xray', 'Ball']\n"
     ]
    }
   ],
   "source": [
    "a = ['ball', 'apple', 'Cat', 'ant', 'Xray', 'Ball']\n",
    "del a[0:3]\n",
    "print(a)"
   ]
  },
  {
   "cell_type": "code",
   "execution_count": 40,
   "id": "25c30380",
   "metadata": {},
   "outputs": [
    {
     "name": "stdout",
     "output_type": "stream",
     "text": [
      "1\n"
     ]
    }
   ],
   "source": [
    "#find indexing\n",
    "a = ['ball', 'apple', 'Cat', 'ant', 'Xray', 'Ball']\n",
    "print(a.index(\"apple\"))"
   ]
  },
  {
   "cell_type": "code",
   "execution_count": 41,
   "id": "b3d84cf5",
   "metadata": {},
   "outputs": [
    {
     "name": "stdout",
     "output_type": "stream",
     "text": [
      "1\n"
     ]
    }
   ],
   "source": [
    "#find indexing\n",
    "a = ['ball', 'apple', 'Cat', 'ant', 'Xray', 'Ball','apple']\n",
    "print(a.index(\"apple\"))"
   ]
  },
  {
   "cell_type": "code",
   "execution_count": 45,
   "id": "a019addf",
   "metadata": {},
   "outputs": [
    {
     "name": "stdout",
     "output_type": "stream",
     "text": [
      "Enter search value = ball\n",
      "0\n"
     ]
    }
   ],
   "source": [
    "a = ['ball', 'apple', 'Cat', 'ant', 'Xray', 'Ball','apple']\n",
    "l = len(a)\n",
    "search = input(\"Enter search value = \")\n",
    "for i in range(l):\n",
    "    if a[i] == search:\n",
    "        print(i)"
   ]
  },
  {
   "cell_type": "code",
   "execution_count": 46,
   "id": "eccf6863",
   "metadata": {},
   "outputs": [
    {
     "data": {
      "text/plain": [
       "['ball', 'apple', 'Cat', 'ant', 'Xray', 'apple']"
      ]
     },
     "execution_count": 46,
     "metadata": {},
     "output_type": "execute_result"
    }
   ],
   "source": [
    "a = ['ball', 'apple', 'Cat', 'ant', 'Xray', 'Ball','apple']\n",
    "a.remove(\"Ball\")\n",
    "a"
   ]
  },
  {
   "cell_type": "code",
   "execution_count": 49,
   "id": "2b90c135",
   "metadata": {},
   "outputs": [
    {
     "name": "stdout",
     "output_type": "stream",
     "text": [
      "['ball', 'Cat', 'ant', 'Xray', 'Ball']\n"
     ]
    }
   ],
   "source": [
    "a = ['ball', 'apple', 'Cat', 'ant', 'Xray', 'Ball','apple']\n",
    "c = a.count('apple')\n",
    "for i in range(c):\n",
    "    a.remove(\"apple\")\n",
    "print(a)"
   ]
  },
  {
   "cell_type": "code",
   "execution_count": 52,
   "id": "cbe5e26b",
   "metadata": {},
   "outputs": [
    {
     "name": "stdout",
     "output_type": "stream",
     "text": [
      "['apple', 'Cat', 'ant', 'Xray', 'Ball', 'apple']\n",
      "ball\n"
     ]
    }
   ],
   "source": [
    "a = ['ball', 'apple', 'Cat', 'ant', 'Xray', 'Ball','apple']\n",
    "b = a.pop(0)\n",
    "print(a)\n",
    "print(b)"
   ]
  },
  {
   "cell_type": "code",
   "execution_count": 1,
   "id": "8c966be7",
   "metadata": {},
   "outputs": [],
   "source": [
    "# search in list"
   ]
  },
  {
   "cell_type": "code",
   "execution_count": 5,
   "id": "80b34ad6",
   "metadata": {},
   "outputs": [
    {
     "name": "stdout",
     "output_type": "stream",
     "text": [
      "Enter search value = apple\n",
      "Yes\n",
      "2\n"
     ]
    }
   ],
   "source": [
    "a = ['apple', 'Cat', 'ant', 'Xray', 'Ball', 'apple']\n",
    "search = input(\"Enter search value = \")\n",
    "if search in a:\n",
    "    print(\"Yes\")\n",
    "    print(a.count(search))"
   ]
  },
  {
   "cell_type": "code",
   "execution_count": 7,
   "id": "7d11e583",
   "metadata": {},
   "outputs": [
    {
     "name": "stdout",
     "output_type": "stream",
     "text": [
      "Enter search value = apple\n",
      "2\n"
     ]
    }
   ],
   "source": [
    "c = 0\n",
    "a = ['apple', 'Cat', 'ant', 'Xray', 'Ball', 'apple']\n",
    "search = input(\"Enter search value = \")\n",
    "for i in range(len(a)):\n",
    "    if search.lower() == a[i].lower():\n",
    "        c = c+1\n",
    "\n",
    "if c>0:\n",
    "    print(\"Yes there is such value\")\n",
    "else:\n",
    "    print(\"No there is no such value\")"
   ]
  },
  {
   "cell_type": "code",
   "execution_count": 8,
   "id": "91a70e26",
   "metadata": {},
   "outputs": [],
   "source": [
    "# list inside list"
   ]
  },
  {
   "cell_type": "code",
   "execution_count": 9,
   "id": "6740d670",
   "metadata": {},
   "outputs": [
    {
     "data": {
      "text/plain": [
       "list"
      ]
     },
     "execution_count": 9,
     "metadata": {},
     "output_type": "execute_result"
    }
   ],
   "source": [
    "a = [[1,2,3],\n",
    "    [4,5,6,],\n",
    "    [7,8,9]]\n",
    "print(type(a))"
   ]
  },
  {
   "cell_type": "code",
   "execution_count": 10,
   "id": "5f40b639",
   "metadata": {},
   "outputs": [
    {
     "name": "stdout",
     "output_type": "stream",
     "text": [
      "[['Ram', 34, 'Kathmandu'], ['Shyam', 45, 'Bhaktapur'], ['Hari', 34, 'Lalitpur']]\n"
     ]
    }
   ],
   "source": [
    "info = [['Ram',34,'Kathmandu'],\n",
    "       ['Shyam',45,'Bhaktapur'],\n",
    "       ['Hari',34,'Lalitpur']]\n",
    "print(info)"
   ]
  },
  {
   "cell_type": "code",
   "execution_count": 16,
   "id": "f5e6b89d",
   "metadata": {},
   "outputs": [
    {
     "data": {
      "text/plain": [
       "'Kathmandu'"
      ]
     },
     "execution_count": 16,
     "metadata": {},
     "output_type": "execute_result"
    }
   ],
   "source": [
    "info[0][2]"
   ]
  },
  {
   "cell_type": "code",
   "execution_count": 13,
   "id": "fcc0759e",
   "metadata": {},
   "outputs": [
    {
     "data": {
      "text/plain": [
       "'Shyam'"
      ]
     },
     "execution_count": 13,
     "metadata": {},
     "output_type": "execute_result"
    }
   ],
   "source": [
    "info[1][0]"
   ]
  },
  {
   "cell_type": "code",
   "execution_count": 18,
   "id": "f2b3954b",
   "metadata": {},
   "outputs": [
    {
     "name": "stdout",
     "output_type": "stream",
     "text": [
      "Enter n = 4\n",
      "Enter name = Ram\n",
      "Enter age = 89\n",
      "Enter add = Kathmansu\n",
      "Enter name = Shyam\n",
      "Enter age = 81\n",
      "Enter add = Bhaktapur\n",
      "Enter name = Sita\n",
      "Enter age = 34\n",
      "Enter add = Jhapa\n",
      "Enter name = Nabin\n",
      "Enter age = 45\n",
      "Enter add = Nuwakot\n",
      "[['Ram', 89, 'Kathmansu'], ['Shyam', 81, 'Bhaktapur'], ['Sita', 34, 'Jhapa'], ['Nabin', 45, 'Nuwakot']]\n"
     ]
    }
   ],
   "source": [
    "info = []\n",
    "n = int(input(\"Enter n = \"))\n",
    "for i in range(n):\n",
    "    name = input(\"Enter name = \")\n",
    "    age = int(input(\"Enter age = \"))\n",
    "    add = input(\"Enter add = \")\n",
    "    x = [name,age,add]\n",
    "    info.append(x)\n",
    "    \n",
    "print(info)"
   ]
  },
  {
   "cell_type": "code",
   "execution_count": 19,
   "id": "96bc6ae3",
   "metadata": {},
   "outputs": [
    {
     "data": {
      "text/plain": [
       "[['Ram', 89, 'Kathmansu'],\n",
       " ['Shyam', 81, 'Bhaktapur'],\n",
       " ['Sita', 34, 'Jhapa'],\n",
       " ['Nabin', 45, 'Nuwakot']]"
      ]
     },
     "execution_count": 19,
     "metadata": {},
     "output_type": "execute_result"
    }
   ],
   "source": [
    "info"
   ]
  },
  {
   "cell_type": "code",
   "execution_count": 20,
   "id": "0ad90613",
   "metadata": {},
   "outputs": [
    {
     "data": {
      "text/plain": [
       "4"
      ]
     },
     "execution_count": 20,
     "metadata": {},
     "output_type": "execute_result"
    }
   ],
   "source": [
    "len(info)"
   ]
  },
  {
   "cell_type": "code",
   "execution_count": 21,
   "id": "0fe3d97c",
   "metadata": {},
   "outputs": [
    {
     "name": "stdout",
     "output_type": "stream",
     "text": [
      "['Ram', 89, 'Kathmansu']\n",
      "['Shyam', 81, 'Bhaktapur']\n",
      "['Sita', 34, 'Jhapa']\n",
      "['Nabin', 45, 'Nuwakot']\n"
     ]
    }
   ],
   "source": [
    "for i in info:\n",
    "    print(i)"
   ]
  },
  {
   "cell_type": "code",
   "execution_count": 22,
   "id": "579948c4",
   "metadata": {},
   "outputs": [
    {
     "name": "stdout",
     "output_type": "stream",
     "text": [
      "Enter name = Ram\n",
      "['Ram', 89, 'Kathmansu']\n"
     ]
    }
   ],
   "source": [
    "name = input(\"Enter name = \")\n",
    "for i in info:\n",
    "    if name in i:\n",
    "        print(i)"
   ]
  },
  {
   "cell_type": "code",
   "execution_count": 24,
   "id": "fd4986c2",
   "metadata": {},
   "outputs": [
    {
     "name": "stdout",
     "output_type": "stream",
     "text": [
      "Enter age = 80\n",
      "['Ram', 89, 'Kathmansu']\n",
      "['Shyam', 81, 'Bhaktapur']\n"
     ]
    }
   ],
   "source": [
    "age = int(input(\"Enter age = \"))\n",
    "for i in info:\n",
    "    if  i[1]>= age:\n",
    "        print(i)"
   ]
  },
  {
   "cell_type": "code",
   "execution_count": 26,
   "id": "8d0e6812",
   "metadata": {},
   "outputs": [
    {
     "name": "stdout",
     "output_type": "stream",
     "text": [
      "Enter name = ram\n",
      "['Ram', 89, 'Kathmansu']\n"
     ]
    }
   ],
   "source": [
    "name = input(\"Enter name = \")\n",
    "for i in info:\n",
    "    if name.lower() == i[0].lower():\n",
    "        print(i)"
   ]
  },
  {
   "cell_type": "code",
   "execution_count": 29,
   "id": "9a874d7f",
   "metadata": {},
   "outputs": [
    {
     "data": {
      "text/plain": [
       "[['ram', 34, 'kathmandu'],\n",
       " ['Shyam', 81, 'Bhaktapur'],\n",
       " ['Sita', 34, 'Jhapa'],\n",
       " ['Nabin', 45, 'Nuwakot']]"
      ]
     },
     "execution_count": 29,
     "metadata": {},
     "output_type": "execute_result"
    }
   ],
   "source": [
    "# update\n",
    "info[0] = ['ram',34,'kathmandu']\n",
    "info"
   ]
  },
  {
   "cell_type": "code",
   "execution_count": 30,
   "id": "4fb1578f",
   "metadata": {},
   "outputs": [
    {
     "data": {
      "text/plain": [
       "[['rAm', 34, 'kathmandu'],\n",
       " ['Shyam', 81, 'Bhaktapur'],\n",
       " ['Sita', 34, 'Jhapa'],\n",
       " ['Nabin', 45, 'Nuwakot']]"
      ]
     },
     "execution_count": 30,
     "metadata": {},
     "output_type": "execute_result"
    }
   ],
   "source": [
    "info[0] = ['ram',34,'kathmandu']\n",
    "info[0][0] = \"rAm\"\n",
    "info"
   ]
  },
  {
   "cell_type": "code",
   "execution_count": 31,
   "id": "c48ebde1",
   "metadata": {},
   "outputs": [
    {
     "data": {
      "text/plain": [
       "[['rAm', 34, 'kathmandu'],\n",
       " ['Shyam', 81, 'Bhaktapur'],\n",
       " ['Sita', 34, 'Jhapa'],\n",
       " ['Nabin', 45, 'Nuwakot']]"
      ]
     },
     "execution_count": 31,
     "metadata": {},
     "output_type": "execute_result"
    }
   ],
   "source": [
    "info"
   ]
  },
  {
   "cell_type": "code",
   "execution_count": 36,
   "id": "6d08b85c",
   "metadata": {},
   "outputs": [
    {
     "data": {
      "text/plain": [
       "[['Nabin', 45, 'Nuwakot']]"
      ]
     },
     "execution_count": 36,
     "metadata": {},
     "output_type": "execute_result"
    }
   ],
   "source": [
    "# del remove() pop()\n",
    "del info[0]\n",
    "info"
   ]
  },
  {
   "cell_type": "code",
   "execution_count": 45,
   "id": "4a53c1d8",
   "metadata": {},
   "outputs": [],
   "source": [
    "info = [['Ram', 34, 'kathmandu'],\n",
    " ['Ram', 81, 'Bhaktapur'],\n",
    " ['Sita', 34, 'Jhapa'],\n",
    " ['Nabin', 45, 'Nuwakot']]"
   ]
  },
  {
   "cell_type": "code",
   "execution_count": 41,
   "id": "105afb0d",
   "metadata": {},
   "outputs": [],
   "source": [
    "info.remove(['rAm', 34, 'kathmandu'])"
   ]
  },
  {
   "cell_type": "code",
   "execution_count": 42,
   "id": "61f177fc",
   "metadata": {},
   "outputs": [
    {
     "data": {
      "text/plain": [
       "[['Shyam', 81, 'Bhaktapur'], ['Sita', 34, 'Jhapa'], ['Nabin', 45, 'Nuwakot']]"
      ]
     },
     "execution_count": 42,
     "metadata": {},
     "output_type": "execute_result"
    }
   ],
   "source": [
    "info"
   ]
  },
  {
   "cell_type": "code",
   "execution_count": 46,
   "id": "bca956a2",
   "metadata": {},
   "outputs": [
    {
     "name": "stdout",
     "output_type": "stream",
     "text": [
      "Enter name = Ram\n",
      "['Ram', 34, 'kathmandu']\n",
      "['Ram', 81, 'Bhaktapur']\n"
     ]
    }
   ],
   "source": [
    "name = input(\"Enter name = \")\n",
    "for i in info:\n",
    "    if name in i:\n",
    "        info.remove(i)"
   ]
  },
  {
   "cell_type": "code",
   "execution_count": null,
   "id": "dce4139d",
   "metadata": {},
   "outputs": [],
   "source": [
    "info = [['Ram', 34, 'kathmandu',50000],\n",
    "         ['Ram', 81, 'Bhaktapur',60000],\n",
    "         ['Sita', 34, 'Jhapa'],40000,\n",
    "         ['Nabin', 45, 'Nuwakot',65000]]\n",
    "\n"
   ]
  }
 ],
 "metadata": {
  "kernelspec": {
   "display_name": "Python 3 (ipykernel)",
   "language": "python",
   "name": "python3"
  },
  "language_info": {
   "codemirror_mode": {
    "name": "ipython",
    "version": 3
   },
   "file_extension": ".py",
   "mimetype": "text/x-python",
   "name": "python",
   "nbconvert_exporter": "python",
   "pygments_lexer": "ipython3",
   "version": "3.9.12"
  }
 },
 "nbformat": 4,
 "nbformat_minor": 5
}
